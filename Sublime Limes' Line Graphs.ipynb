{
 "cells": [
  {
   "cell_type": "code",
   "execution_count": null,
   "id": "39d4ecf2",
   "metadata": {},
   "outputs": [],
   "source": [
    "import codecademylib\n",
    "from matplotlib import pyplot as plt\n",
    "\n",
    "months = [\"Jan\", \"Feb\", \"Mar\", \"Apr\", \"May\", \"Jun\", \"Jul\", \"Aug\", \"Sep\", \"Oct\", \"Nov\", \"Dec\"]\n",
    "\n",
    "visits_per_month = [9695, 7909, 10831, 12942, 12495, 16794, 14161, 12762, 12777, 12439, 10309, 8724]\n",
    "\n",
    "# numbers of limes of different species sold each month\n",
    "key_limes_per_month = [92.0, 109.0, 124.0, 70.0, 101.0, 79.0, 106.0, 101.0, 103.0, 90.0, 102.0, 106.0]\n",
    "persian_limes_per_month = [67.0, 51.0, 57.0, 54.0, 83.0, 90.0, 52.0, 63.0, 51.0, 44.0, 64.0, 78.0]\n",
    "blood_limes_per_month = [75.0, 75.0, 76.0, 71.0, 74.0, 77.0, 69.0, 80.0, 63.0, 69.0, 73.0, 82.0]\n",
    "\n",
    "x_values = range(len(months))\n",
    "\n",
    "# create your figure here\n",
    "plt.figure(figsize=(12, 8))\n",
    "ax1 = plt.subplot(1, 2, 1)\n",
    "ax1.plot(x_values, visits_per_month, marker=\"o\")\n",
    "plt.xlabel(\"months\")\n",
    "plt.ylabel(\"Total page visits\")\n",
    "plt.title(\"Number of times store is visited per month\")\n",
    "ax1.set_xticks(x_values)\n",
    "ax1.set_xticklabels(months)\n",
    "\n",
    "ax2 = plt.subplot(1, 2, 2)\n",
    "ax2.plot(x_values, key_limes_per_month, marker=\"o\", color=\"red\", label=\"Key Limes\")\n",
    "ax2.plot(x_values, persian_limes_per_month, marker=\"o\", color=\"yellow\", label=\"Persian Limes\")\n",
    "ax2.plot(x_values, blood_limes_per_month, marker=\"o\", color=\"green\", label=\"Blood Limes\")\n",
    "plt.legend(loc=\"upper right\")\n",
    "ax2.set_xticks(x_values)\n",
    "ax2.set_xticklabels(months)\n",
    "plt.title(\"Sales of limes per month\")\n",
    "\n",
    "plt.show()\n",
    "plt.savefig(\"Sulime_Limes.png\")\n",
    "\n",
    "\n",
    "\n",
    "\n",
    "\n",
    "\n",
    "\n",
    "\n",
    "\n"
   ]
  }
 ],
 "metadata": {
  "kernelspec": {
   "display_name": "Python 3",
   "language": "python",
   "name": "python3"
  },
  "language_info": {
   "codemirror_mode": {
    "name": "ipython",
    "version": 3
   },
   "file_extension": ".py",
   "mimetype": "text/x-python",
   "name": "python",
   "nbconvert_exporter": "python",
   "pygments_lexer": "ipython3",
   "version": "3.8.8"
  }
 },
 "nbformat": 4,
 "nbformat_minor": 5
}
